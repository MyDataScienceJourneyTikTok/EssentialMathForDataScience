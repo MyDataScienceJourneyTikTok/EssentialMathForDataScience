{
 "cells": [
  {
   "attachments": {},
   "cell_type": "markdown",
   "metadata": {},
   "source": [
    "Essential Math for Data Science. Chapter - 1."
   ]
  },
  {
   "attachments": {},
   "cell_type": "markdown",
   "metadata": {},
   "source": [
    "Summation using sympy"
   ]
  },
  {
   "cell_type": "code",
   "execution_count": null,
   "metadata": {},
   "outputs": [],
   "source": [
    "from sympy import *\n",
    "i, n = symbols('i n')\n",
    "summation = Sum(2 * i, (i, 1, n))\n",
    "up_to_5 = summation.subs(n, 5)\n",
    "print(up_to_5.doit())"
   ]
  },
  {
   "attachments": {},
   "cell_type": "markdown",
   "metadata": {},
   "source": [
    "Simplify Expressions with SymPy"
   ]
  },
  {
   "cell_type": "code",
   "execution_count": null,
   "metadata": {},
   "outputs": [],
   "source": [
    "x = symbols('x')\n",
    "expr = x**2 / x**5\n",
    "print(expr)"
   ]
  },
  {
   "attachments": {},
   "cell_type": "markdown",
   "metadata": {},
   "source": [
    "Derivative in SymPy"
   ]
  },
  {
   "cell_type": "code",
   "execution_count": null,
   "metadata": {},
   "outputs": [],
   "source": [
    "x = symbols('x')\n",
    "f = x**2\n",
    "dx_f = diff(f)\n",
    "print(dx_f)\n",
    "print(dx_f.subs(x, 2.0))"
   ]
  },
  {
   "attachments": {},
   "cell_type": "markdown",
   "metadata": {},
   "source": [
    "Partial derivatives"
   ]
  },
  {
   "cell_type": "code",
   "execution_count": null,
   "metadata": {},
   "outputs": [],
   "source": [
    "x, y = symbols('x y')\n",
    "f = 2*x**3 + 3*y**3\n",
    "dx_f=diff(f, x)\n",
    "dy_f=diff(f, y)\n",
    "print(dx_f)\n",
    "print(dy_f)"
   ]
  },
  {
   "attachments": {},
   "cell_type": "markdown",
   "metadata": {},
   "source": [
    "Chain rule"
   ]
  },
  {
   "cell_type": "code",
   "execution_count": null,
   "metadata": {},
   "outputs": [],
   "source": [
    "x, y = symbols('x y')\n",
    "\n",
    "_y = x**2 + 1\n",
    "dy_dx = diff(_y)\n",
    "\n",
    "z = y**3 - 2\n",
    "dz_dy = diff(z)\n",
    "\n",
    "print(dy_dx)\n",
    "print(dz_dy)\n",
    "\n",
    "dz_dx_chain = (dz_dy * dy_dx).subs(y, _y)\n",
    "print(dz_dx_chain)\n",
    "\n",
    "dz_dx_no_chain = diff(z.subs(y, _y))\n",
    "print(dz_dx_no_chain)"
   ]
  },
  {
   "attachments": {},
   "cell_type": "markdown",
   "metadata": {},
   "source": [
    "Integration"
   ]
  },
  {
   "cell_type": "code",
   "execution_count": null,
   "metadata": {},
   "outputs": [],
   "source": [
    "x = symbols('x')\n",
    "f = x**2 + 1\n",
    "area = integrate(f, (x, 0, 1))\n",
    "print(area)"
   ]
  },
  {
   "attachments": {},
   "cell_type": "markdown",
   "metadata": {},
   "source": [
    "Exercises"
   ]
  },
  {
   "cell_type": "code",
   "execution_count": null,
   "metadata": {},
   "outputs": [],
   "source": [
    "# 5 and 6\n",
    "# A = P * (1 + r/n)**(n*t)\n",
    "p = 1000\n",
    "r = 0.05\n",
    "t = 3\n",
    "n = 12\n",
    "A_CompoundedMonthly = p * (1 + r/n)**(n*t)\n",
    "print(A_CompoundedMonthly)\n",
    "\n",
    "A_CompoundedContinuosly = p * exp(r * t)\n",
    "print(A_CompoundedContinuosly)\n",
    "\n",
    "# 7 and 8\n",
    "x = symbols('x')\n",
    "f = 3*x**2 + 1\n",
    "\n",
    "slope = diff(f)\n",
    "slopeAt3 = slope.subs(x, 3)\n",
    "print(slopeAt3)\n",
    "\n",
    "area = integrate(f, (x, 0, 2))\n",
    "print(area)"
   ]
  }
 ],
 "metadata": {
  "kernelspec": {
   "display_name": "Python 3",
   "language": "python",
   "name": "python3"
  },
  "language_info": {
   "codemirror_mode": {
    "name": "ipython",
    "version": 3
   },
   "file_extension": ".py",
   "mimetype": "text/x-python",
   "name": "python",
   "nbconvert_exporter": "python",
   "pygments_lexer": "ipython3",
   "version": "3.11.6"
  },
  "orig_nbformat": 4,
  "vscode": {
   "interpreter": {
    "hash": "dc8033089b697811916fb0745eb95ebe897ded22518d45dc9ce8de40ed23a569"
   }
  }
 },
 "nbformat": 4,
 "nbformat_minor": 2
}
